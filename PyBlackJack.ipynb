{
  "nbformat": 4,
  "nbformat_minor": 0,
  "metadata": {
    "colab": {
      "name": "PyBlackJack.ipynb",
      "provenance": [],
      "collapsed_sections": [],
      "authorship_tag": "ABX9TyNNdzgygrff3EJGytGoryfi",
      "include_colab_link": true
    },
    "kernelspec": {
      "name": "python3",
      "display_name": "Python 3"
    }
  },
  "cells": [
    {
      "cell_type": "markdown",
      "metadata": {
        "id": "view-in-github",
        "colab_type": "text"
      },
      "source": [
        "<a href=\"https://colab.research.google.com/github/Gabones/PyBlackJack/blob/main/PyBlackJack.ipynb\" target=\"_parent\"><img src=\"https://colab.research.google.com/assets/colab-badge.svg\" alt=\"Open In Colab\"/></a>"
      ]
    },
    {
      "cell_type": "markdown",
      "metadata": {
        "id": "ofl-EyNk00YT"
      },
      "source": [
        "#Black Jack in Python\n",
        "\n",
        "Teste suas estratégias especulativas em um jogo de cartas.\n",
        "Cada rodada custa 1 real e caso você vença recebera 2 reais como premiação. Você define seu aporte inicial e o jogo acaba quando você não tem mais dinheiro para jogar ou quando você dobrou seu capital inicial quebrando a banca.\n",
        "\n",
        "Boa sorte!"
      ]
    },
    {
      "cell_type": "code",
      "metadata": {
        "id": "btyPXIvb0Y5C",
        "outputId": "34778565-b756-4121-acd6-9248851dc344",
        "colab": {
          "base_uri": "https://localhost:8080/",
          "height": 90
        }
      },
      "source": [
        "#implementar estratégias de hit, split, insurance, surrender\n",
        "#implementar baralho real e contagem de cartas\n",
        "import random\n",
        "\n",
        "def total_hand(hand):\n",
        "    aces = 0\n",
        "    total = 0\n",
        "    for card in hand:\n",
        "        if card in ['J','Q','K']:\n",
        "            total += 10\n",
        "        elif card == 'A':\n",
        "            total += 1\n",
        "            aces += 1\n",
        "        else:\n",
        "            total += int(card)\n",
        "    while total + 10 <= 21 and aces > 0:\n",
        "        total += 10\n",
        "        aces -= 1\n",
        "    return(total)\n",
        "\n",
        "def game(wallet):\n",
        "  wallet -= 1\n",
        "  if wallet < 0:\n",
        "    print('Você quebrou sua conta. Saldo: ', wallet)\n",
        "    return wallet\n",
        "  your_cards = []\n",
        "  dealer_cards = []\n",
        "\n",
        "  cards = ['A',2,3,4,5,6,7,8,9,10,'J','Q','K']\n",
        "\n",
        "  for r in range(2):\n",
        "    dealer_cards += [cards[random.randint(0,12)]] \n",
        "    your_cards += [cards[random.randint(0,12)]]\n",
        "\n",
        "  total_d = total_hand(dealer_cards)\n",
        "  total_y = total_hand(your_cards)\n",
        "\n",
        "  print('A mão do dealer possui as cartas: [', dealer_cards[0], ', \\'*\\']')\n",
        "  print('A sua mão vale: ', total_y, ' e possui as cartas: ', your_cards)\n",
        "  \n",
        "  if total_d == 21 and total_y != 21:\n",
        "    print('A Banca fez um black jack: ', dealer_cards)\n",
        "    return wallet\n",
        "\n",
        "  jogada = input()\n",
        "  while jogada != 'stand' and total_y <= 21:\n",
        "    your_cards += [cards[random.randint(0,12)]]\n",
        "    total_y = total_hand(your_cards)\n",
        "    print('A sua mão vale: ', total_y, ' e possui as cartas: ', your_cards)\n",
        "    jogada = input()\n",
        "\n",
        "  while total_d <= 17:\n",
        "    dealer_cards += [cards[random.randint(0,12)]]\n",
        "    total_d = total_hand(dealer_cards)\n",
        "\n",
        "  print('A mão do dealer vale: ', total_d, ' e possui as cartas: ', dealer_cards)\n",
        "  \n",
        "  \n",
        "game(1)"
      ],
      "execution_count": 51,
      "outputs": [
        {
          "output_type": "stream",
          "text": [
            "A mão do dealer possui as cartas: [ 9 , '*']\n",
            "A sua mão vale:  21  e possui as cartas:  ['K', 'A']\n",
            "stand\n",
            "A mão do dealer vale:  22  e possui as cartas:  [9, 3, 'J']\n"
          ],
          "name": "stdout"
        }
      ]
    }
  ]
}