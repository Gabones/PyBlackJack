{
  "nbformat": 4,
  "nbformat_minor": 0,
  "metadata": {
    "colab": {
      "name": "PyBlackJack.ipynb",
      "provenance": [],
      "authorship_tag": "ABX9TyPQc4SL1Om1d4G7PjN551d1",
      "include_colab_link": true
    },
    "kernelspec": {
      "name": "python3",
      "display_name": "Python 3"
    }
  },
  "cells": [
    {
      "cell_type": "markdown",
      "metadata": {
        "id": "view-in-github",
        "colab_type": "text"
      },
      "source": [
        "<a href=\"https://colab.research.google.com/github/Gabones/PyBlackJack/blob/main/PyBlackJack.ipynb\" target=\"_parent\"><img src=\"https://colab.research.google.com/assets/colab-badge.svg\" alt=\"Open In Colab\"/></a>"
      ]
    },
    {
      "cell_type": "markdown",
      "metadata": {
        "id": "ofl-EyNk00YT"
      },
      "source": [
        "#Black Jack in Python\n",
        "\n",
        "Teste suas estratégias especulativas em um jogo de cartas.\n",
        "Cada rodada custa 1 real e caso você vença recebera 2 reais como premiação. Você define seu aporte inicial e o jogo acaba quando você não tem mais dinheiro para jogar ou quando você dobrou seu capital inicial quebrando a banca.\n",
        "\n",
        "Boa sorte!"
      ]
    },
    {
      "cell_type": "code",
      "metadata": {
        "id": "btyPXIvb0Y5C",
        "outputId": "edcaa796-18d9-43d9-b6c0-73b0c3f90898",
        "colab": {
          "base_uri": "https://localhost:8080/",
          "height": 54
        }
      },
      "source": [
        "import random\n",
        "\n",
        "def game(wallet):\n",
        "  wallet -= 1\n",
        "  if wallet < 0:\n",
        "    print('Você quebrou sua conta. Saldo: ', wallet)\n",
        "    return wallet\n",
        "  your_cards = []\n",
        "  dealer_cards = []\n",
        "\n",
        "  cards = ['A',2,3,4,5,6,7,8,9,10,'J','Q','K']\n",
        "\n",
        "  for r in range(2):\n",
        "    dealer_cards += [cards[random.randint(0,12)]] \n",
        "    your_cards += [cards[random.randint(0,12)]]\n",
        "\n",
        "  print(dealer_cards)\n",
        "  print(your_cards)\n",
        "\n",
        "game(1)"
      ],
      "execution_count": 13,
      "outputs": [
        {
          "output_type": "stream",
          "text": [
            "['Q', 'A']\n",
            "[6, 4]\n"
          ],
          "name": "stdout"
        }
      ]
    }
  ]
}